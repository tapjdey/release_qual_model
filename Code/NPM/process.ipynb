{
 "cells": [
  {
   "cell_type": "code",
   "execution_count": 1,
   "metadata": {},
   "outputs": [],
   "source": [
    "library(data.table)"
   ]
  },
  {
   "cell_type": "code",
   "execution_count": 15,
   "metadata": {},
   "outputs": [
    {
     "name": "stdout",
     "output_type": "stream",
     "text": [
      "List of 6\n",
      " $ 20180107: chr [1:355] \"lodash\" \"request\" \"async\" \"express\" ...\n",
      " $ 20180115: chr [1:323] \"lodash\" \"request\" \"async\" \"express\" ...\n",
      " $ 20180131: chr [1:366] \"lodash\" \"request\" \"async\" \"express\" ...\n",
      " $ 20180214: chr [1:455] \"lodash\" \"eslint\" \"request\" \"async\" ...\n",
      " $ 20180301: chr [1:487] \"lodash\" \"eslint\" \"request\" \"async\" ...\n",
      " $ 20180319: chr [1:528] \"lodash\" \"eslint\" \"request\" \"async\" ...\n"
     ]
    }
   ],
   "source": [
    "pop.prj = list()\n",
    "for (x in c( '20180107', '20180115', '20180131','20180214','20180301','20180319')){\n",
    "    d = fread(paste0(\"../new_npms_data_\",x), sep=\";\", header=T)\n",
    "    d = d[!duplicated(d),]\n",
    "    pop.prj[[x]] = d[d$Downloads.1M > 10e6,]$Project.Name\n",
    "}\n",
    "str(pop.prj)"
   ]
  },
  {
   "cell_type": "code",
   "execution_count": 16,
   "metadata": {},
   "outputs": [
    {
     "name": "stdout",
     "output_type": "stream",
     "text": [
      " chr [1:317] \"lodash\" \"request\" \"async\" \"express\" \"underscore\" \"chalk\" ...\n"
     ]
    }
   ],
   "source": [
    "pop.all = Reduce(intersect, pop.prj)\n",
    "str(pop.all)"
   ]
  },
  {
   "cell_type": "code",
   "execution_count": 14,
   "metadata": {},
   "outputs": [
    {
     "name": "stdout",
     "output_type": "stream",
     "text": [
      " chr [1:4804] \"mocha\" \"chai\" \"lodash\" \"grunt\" \"eslint\" \"gulp\" ...\n"
     ]
    }
   ],
   "source": [
    "#pop.k = pop.all\n",
    "str(pop.k)"
   ]
  },
  {
   "cell_type": "code",
   "execution_count": 17,
   "metadata": {},
   "outputs": [
    {
     "name": "stdout",
     "output_type": "stream",
     "text": [
      " chr [1:4487] \"mocha\" \"chai\" \"grunt\" \"eslint\" \"gulp\" \"babel-preset-es2015\" ...\n"
     ]
    }
   ],
   "source": [
    "pop.tk = setdiff(pop.k, pop.all)\n",
    "str(pop.tk)"
   ]
  },
  {
   "cell_type": "code",
   "execution_count": 18,
   "metadata": {},
   "outputs": [],
   "source": [
    "write.table(rbind(pop.tk), file = \"onlytenKtenMpop.csv\", row.names =FALSE, col.names = FALSE,sep = \",\")"
   ]
  }
 ],
 "metadata": {
  "kernelspec": {
   "display_name": "R",
   "language": "R",
   "name": "ir"
  },
  "language_info": {
   "codemirror_mode": "r",
   "file_extension": ".r",
   "mimetype": "text/x-r-source",
   "name": "R",
   "pygments_lexer": "r",
   "version": "3.4.4"
  }
 },
 "nbformat": 4,
 "nbformat_minor": 2
}
