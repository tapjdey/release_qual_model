{
 "cells": [
  {
   "cell_type": "markdown",
   "metadata": {},
   "source": [
    "#Model\n",
    "##Postulates\n",
    "1. Modifications in a Software introduces bugs\n",
    "2. No. of bugs is linearly related to the number of modifications prior to release.\n",
    "3. Expertise of the developer who made the modifications is a factor to determine how many bugs it can generate.\n",
    "4. Bugs follow a Poisson Ditribution\n",
    "\n",
    "###Notation\n",
    "No. of Bugs, $\\lambda = k \\sum_{i} m_i e_i$, where $m_i$ is the modification and $e_i$ is the expertise of the developer who made that change and k is the proportionality constant.\n",
    "\n",
    "Distribution of bugs ~ Poisson($\\lambda$), i.e.  P(no. of  bugs = x) = $\\frac{e^{-\\lambda} \\lambda^x}{x!}$\n"
   ]
  },
  {
   "cell_type": "code",
   "execution_count": null,
   "metadata": {
    "collapsed": true
   },
   "outputs": [],
   "source": []
  }
 ],
 "metadata": {
  "kernelspec": {
   "display_name": "Python 3",
   "language": "python",
   "name": "python3"
  },
  "language_info": {
   "codemirror_mode": {
    "name": "ipython",
    "version": 3
   },
   "file_extension": ".py",
   "mimetype": "text/x-python",
   "name": "python",
   "nbconvert_exporter": "python",
   "pygments_lexer": "ipython3",
   "version": "3.4.3"
  }
 },
 "nbformat": 4,
 "nbformat_minor": 0
}
