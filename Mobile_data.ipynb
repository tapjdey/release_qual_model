{
 "cells": [
  {
   "cell_type": "code",
   "execution_count": 1,
   "metadata": {
    "collapsed": false
   },
   "outputs": [
    {
     "data": {
      "text/html": [
       "'../data/data1_May16//UA-36442576-4.new.user'"
      ],
      "text/latex": [
       "'../data/data1_May16//UA-36442576-4.new.user'"
      ],
      "text/markdown": [
       "'../data/data1_May16//UA-36442576-4.new.user'"
      ],
      "text/plain": [
       "[1] \"../data/data1_May16//UA-36442576-4.new.user\""
      ]
     },
     "execution_count": 1,
     "metadata": {},
     "output_type": "execute_result"
    }
   ],
   "source": [
    "#Reading data\n",
    "filelist <- list.files(path = \"../data/data1_May16/\", pattern = \"*4.new.user\", full.names = TRUE)\n",
    "filelist"
   ]
  },
  {
   "cell_type": "code",
   "execution_count": 14,
   "metadata": {
    "collapsed": false
   },
   "outputs": [
    {
     "data": {
      "text/html": [
       "'../data/data1_May16//UA-36442576-4.new'"
      ],
      "text/latex": [
       "'../data/data1_May16//UA-36442576-4.new'"
      ],
      "text/markdown": [
       "'../data/data1_May16//UA-36442576-4.new'"
      ],
      "text/plain": [
       "[1] \"../data/data1_May16//UA-36442576-4.new\""
      ]
     },
     "execution_count": 14,
     "metadata": {},
     "output_type": "execute_result"
    }
   ],
   "source": [
    "#Reading data\n",
    "filelist1 <- list.files(path = \"../data/data1_May16/\", pattern = \"*4.new$\", full.names = TRUE)\n",
    "filelist1"
   ]
  },
  {
   "cell_type": "code",
   "execution_count": 8,
   "metadata": {
    "collapsed": false
   },
   "outputs": [],
   "source": [
    "UserFile = do.call(rbind, lapply(filelist, function(x) read.csv(file = x,sep=\";\",na.strings=\"(not set)\")))"
   ]
  },
  {
   "cell_type": "code",
   "execution_count": 9,
   "metadata": {
    "collapsed": false
   },
   "outputs": [
    {
     "data": {
      "text/html": [
       "<table>\n",
       "<thead><tr><th></th><th scope=col>ga.appVersion</th><th scope=col>ga.mobileDeviceBranding</th><th scope=col>ga.mobileDeviceModel</th><th scope=col>ga.mobileDeviceInfo</th><th scope=col>ga.deviceCategory</th><th scope=col>ga.operatingSystemVersion</th><th scope=col>ga.date</th><th scope=col>ga.newUsers</th><th scope=col>ga.users</th><th scope=col>ga.sessionsPerUser</th></tr></thead>\n",
       "<tbody>\n",
       "\t<tr><th scope=row>1</th><td>NA</td><td>Karbonn</td><td>A11</td><td>Karbonn A11</td><td>mobile</td><td>4.0.4</td><td>20150121</td><td>0</td><td>13</td><td>0.0</td></tr>\n",
       "\t<tr><th scope=row>2</th><td>2.0.0</td><td>NA</td><td>NA</td><td>NA</td><td>mobile</td><td>4.1.2</td><td>20140104</td><td>0</td><td>13</td><td>1.0</td></tr>\n",
       "\t<tr><th scope=row>3</th><td>2.0.0</td><td>NA</td><td>NA</td><td>NA</td><td>mobile</td><td>4.2.1</td><td>20131215</td><td>13</td><td>13</td><td>3.8461538461538463</td></tr>\n",
       "\t<tr><th scope=row>4</th><td>2.0.0</td><td>NA</td><td>NA</td><td>NA</td><td>mobile</td><td>4.2.1</td><td>20131216</td><td>0</td><td>13</td><td>2.923076923076923</td></tr>\n",
       "\t<tr><th scope=row>5</th><td>2.0.0</td><td>NA</td><td>NA</td><td>NA</td><td>mobile</td><td>4.2.1</td><td>20140121</td><td>13</td><td>13</td><td>6.769230769230769</td></tr>\n",
       "\t<tr><th scope=row>6</th><td>2.0.0</td><td>NA</td><td>NA</td><td>NA</td><td>mobile</td><td>4.2.1</td><td>20140206</td><td>0</td><td>13</td><td>2.923076923076923</td></tr>\n",
       "</tbody>\n",
       "</table>\n"
      ],
      "text/latex": [
       "\\begin{tabular}{r|llllllllll}\n",
       "  & ga.appVersion & ga.mobileDeviceBranding & ga.mobileDeviceModel & ga.mobileDeviceInfo & ga.deviceCategory & ga.operatingSystemVersion & ga.date & ga.newUsers & ga.users & ga.sessionsPerUser\\\\\n",
       "\\hline\n",
       "\t1 & NA & Karbonn & A11 & Karbonn A11 & mobile & 4.0.4 & 20150121 & 0 & 13 & 0.0\\\\\n",
       "\t2 & 2.0.0 & NA & NA & NA & mobile & 4.1.2 & 20140104 & 0 & 13 & 1.0\\\\\n",
       "\t3 & 2.0.0 & NA & NA & NA & mobile & 4.2.1 & 20131215 & 13 & 13 & 3.8461538461538463\\\\\n",
       "\t4 & 2.0.0 & NA & NA & NA & mobile & 4.2.1 & 20131216 & 0 & 13 & 2.923076923076923\\\\\n",
       "\t5 & 2.0.0 & NA & NA & NA & mobile & 4.2.1 & 20140121 & 13 & 13 & 6.769230769230769\\\\\n",
       "\t6 & 2.0.0 & NA & NA & NA & mobile & 4.2.1 & 20140206 & 0 & 13 & 2.923076923076923\\\\\n",
       "\\end{tabular}\n"
      ],
      "text/plain": [
       "  ga.appVersion ga.mobileDeviceBranding ga.mobileDeviceModel\n",
       "1          <NA>                 Karbonn                  A11\n",
       "2         2.0.0                    <NA>                 <NA>\n",
       "3         2.0.0                    <NA>                 <NA>\n",
       "4         2.0.0                    <NA>                 <NA>\n",
       "5         2.0.0                    <NA>                 <NA>\n",
       "6         2.0.0                    <NA>                 <NA>\n",
       "  ga.mobileDeviceInfo ga.deviceCategory ga.operatingSystemVersion  ga.date\n",
       "1         Karbonn A11            mobile                     4.0.4 20150121\n",
       "2                <NA>            mobile                     4.1.2 20140104\n",
       "3                <NA>            mobile                     4.2.1 20131215\n",
       "4                <NA>            mobile                     4.2.1 20131216\n",
       "5                <NA>            mobile                     4.2.1 20140121\n",
       "6                <NA>            mobile                     4.2.1 20140206\n",
       "  ga.newUsers ga.users ga.sessionsPerUser\n",
       "1           0       13                0.0\n",
       "2           0       13                1.0\n",
       "3          13       13 3.8461538461538463\n",
       "4           0       13  2.923076923076923\n",
       "5          13       13  6.769230769230769\n",
       "6           0       13  2.923076923076923"
      ]
     },
     "execution_count": 9,
     "metadata": {},
     "output_type": "execute_result"
    }
   ],
   "source": [
    "head(UserFile)"
   ]
  },
  {
   "cell_type": "code",
   "execution_count": 15,
   "metadata": {
    "collapsed": false
   },
   "outputs": [],
   "source": [
    "NewData <- do.call(rbind, lapply(filelist1, function(x) read.csv(file = x,sep=\";\",na.strings=\"(not set)\")))"
   ]
  },
  {
   "cell_type": "code",
   "execution_count": 16,
   "metadata": {
    "collapsed": false
   },
   "outputs": [
    {
     "data": {
      "text/html": [
       "<table>\n",
       "<thead><tr><th></th><th scope=col>ga.appVersion</th><th scope=col>ga.operatingSystemVersion</th><th scope=col>ga.date</th><th scope=col>ga.exceptions</th><th scope=col>ga.fatalExceptions</th><th scope=col>ga.newVisits</th><th scope=col>ga.visits</th><th scope=col>ga.timeOnSite</th></tr></thead>\n",
       "<tbody>\n",
       "\t<tr><th scope=row>1</th><td>2.0.0</td><td>4.0.3</td><td>20131204</td><td>0</td><td>0</td><td>38</td><td>50</td><td>24528</td></tr>\n",
       "\t<tr><th scope=row>2</th><td>2.0.0</td><td>4.0.3</td><td>20131206</td><td>0</td><td>0</td><td>13</td><td>25</td><td>3393</td></tr>\n",
       "\t<tr><th scope=row>3</th><td>2.0.0</td><td>4.0.3</td><td>20131213</td><td>0</td><td>0</td><td>0</td><td>50</td><td>1202</td></tr>\n",
       "\t<tr><th scope=row>4</th><td>2.0.0</td><td>4.0.3</td><td>20131214</td><td>0</td><td>0</td><td>0</td><td>13</td><td>1152</td></tr>\n",
       "\t<tr><th scope=row>5</th><td>2.0.0</td><td>4.0.3</td><td>20131215</td><td>0</td><td>0</td><td>0</td><td>13</td><td>0</td></tr>\n",
       "\t<tr><th scope=row>6</th><td>2.0.0</td><td>4.0.3</td><td>20140107</td><td>0</td><td>0</td><td>0</td><td>38</td><td>15500</td></tr>\n",
       "</tbody>\n",
       "</table>\n"
      ],
      "text/latex": [
       "\\begin{tabular}{r|llllllll}\n",
       "  & ga.appVersion & ga.operatingSystemVersion & ga.date & ga.exceptions & ga.fatalExceptions & ga.newVisits & ga.visits & ga.timeOnSite\\\\\n",
       "\\hline\n",
       "\t1 & 2.0.0 & 4.0.3 & 20131204 & 0 & 0 & 38 & 50 & 24528\\\\\n",
       "\t2 & 2.0.0 & 4.0.3 & 20131206 & 0 & 0 & 13 & 25 & 3393\\\\\n",
       "\t3 & 2.0.0 & 4.0.3 & 20131213 & 0 & 0 & 0 & 50 & 1202\\\\\n",
       "\t4 & 2.0.0 & 4.0.3 & 20131214 & 0 & 0 & 0 & 13 & 1152\\\\\n",
       "\t5 & 2.0.0 & 4.0.3 & 20131215 & 0 & 0 & 0 & 13 & 0\\\\\n",
       "\t6 & 2.0.0 & 4.0.3 & 20140107 & 0 & 0 & 0 & 38 & 15500\\\\\n",
       "\\end{tabular}\n"
      ],
      "text/plain": [
       "  ga.appVersion ga.operatingSystemVersion  ga.date ga.exceptions\n",
       "1         2.0.0                     4.0.3 20131204             0\n",
       "2         2.0.0                     4.0.3 20131206             0\n",
       "3         2.0.0                     4.0.3 20131213             0\n",
       "4         2.0.0                     4.0.3 20131214             0\n",
       "5         2.0.0                     4.0.3 20131215             0\n",
       "6         2.0.0                     4.0.3 20140107             0\n",
       "  ga.fatalExceptions ga.newVisits ga.visits ga.timeOnSite\n",
       "1                  0           38        50         24528\n",
       "2                  0           13        25          3393\n",
       "3                  0            0        50          1202\n",
       "4                  0            0        13          1152\n",
       "5                  0            0        13             0\n",
       "6                  0            0        38         15500"
      ]
     },
     "execution_count": 16,
     "metadata": {},
     "output_type": "execute_result"
    }
   ],
   "source": [
    "head(NewData)"
   ]
  }
 ],
 "metadata": {
  "kernelspec": {
   "display_name": "R",
   "language": "R",
   "name": "ir"
  },
  "language_info": {
   "codemirror_mode": "r",
   "file_extension": ".r",
   "mimetype": "text/x-r-source",
   "name": "R",
   "pygments_lexer": "r",
   "version": "3.2.2"
  }
 },
 "nbformat": 4,
 "nbformat_minor": 0
}
